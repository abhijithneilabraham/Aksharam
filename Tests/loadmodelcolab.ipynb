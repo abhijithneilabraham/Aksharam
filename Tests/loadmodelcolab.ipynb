{
  "nbformat": 4,
  "nbformat_minor": 0,
  "metadata": {
    "colab": {
      "name": "loadmodelcolab.ipynb",
      "version": "0.3.2",
      "provenance": [],
      "include_colab_link": true
    },
    "kernelspec": {
      "name": "python3",
      "display_name": "Python 3"
    }
  },
  "cells": [
    {
      "cell_type": "markdown",
      "metadata": {
        "id": "view-in-github",
        "colab_type": "text"
      },
      "source": [
        "<a href=\"https://colab.research.google.com/github/abhijithneilabraham/Aksharam/blob/master/Tests/loadmodelcolab.ipynb\" target=\"_parent\"><img src=\"https://colab.research.google.com/assets/colab-badge.svg\" alt=\"Open In Colab\"/></a>"
      ]
    },
    {
      "cell_type": "code",
      "metadata": {
        "id": "O3eP_Jl-antv",
        "colab_type": "code",
        "colab": {
          "base_uri": "https://localhost:8080/",
          "height": 212
        },
        "outputId": "627444e9-9019-4c9f-ad45-1d026370182e"
      },
      "source": [
        "!wget https://dl.fbaipublicfiles.com/fasttext/vectors-crawl/cc.ml.300.vec.gz"
      ],
      "execution_count": 1,
      "outputs": [
        {
          "output_type": "stream",
          "text": [
            "--2019-09-03 04:38:53--  https://dl.fbaipublicfiles.com/fasttext/vectors-crawl/cc.ml.300.vec.gz\n",
            "Resolving dl.fbaipublicfiles.com (dl.fbaipublicfiles.com)... 104.20.22.166, 104.20.6.166, 2606:4700:10::6814:6a6, ...\n",
            "Connecting to dl.fbaipublicfiles.com (dl.fbaipublicfiles.com)|104.20.22.166|:443... connected.\n",
            "HTTP request sent, awaiting response... 200 OK\n",
            "Length: 1215270076 (1.1G) [binary/octet-stream]\n",
            "Saving to: ‘cc.ml.300.vec.gz’\n",
            "\n",
            "cc.ml.300.vec.gz    100%[===================>]   1.13G  28.8MB/s    in 41s     \n",
            "\n",
            "2019-09-03 04:39:39 (28.3 MB/s) - ‘cc.ml.300.vec.gz’ saved [1215270076/1215270076]\n",
            "\n"
          ],
          "name": "stdout"
        }
      ]
    },
    {
      "cell_type": "code",
      "metadata": {
        "id": "WGlDbXScbYdJ",
        "colab_type": "code",
        "colab": {}
      },
      "source": [
        "!gunzip cc.ml.300.vec.gz"
      ],
      "execution_count": 0,
      "outputs": []
    },
    {
      "cell_type": "code",
      "metadata": {
        "id": "Q2SGUiaJacia",
        "colab_type": "code",
        "colab": {}
      },
      "source": [
        "#!/usr/bin/env python3\n",
        "# -*- coding: utf-8 -*-\n",
        "\"\"\"\n",
        "Created on Tue Sep  3 00:16:46 2019\n",
        "\n",
        "@author: abhijithneilabraham\n",
        "\"\"\"\n",
        "\n",
        "import io\n",
        "\n",
        "def load_vectors(fname):\n",
        "    fin = io.open(fname, 'r', encoding='utf-8', newline='\\n', errors='ignore')\n",
        "    n, d = map(int, fin.readline().split())\n",
        "    data = {}\n",
        "    for line in fin:\n",
        "        tokens = line.rstrip().split(' ')\n",
        "        data[tokens[0]] = map(float, tokens[1:])\n",
        "    return data\n",
        "    \n",
        "embed=load_vectors('cc.ml.300.vec')\n",
        "print(embed)"
      ],
      "execution_count": 0,
      "outputs": []
    }
  ]
}